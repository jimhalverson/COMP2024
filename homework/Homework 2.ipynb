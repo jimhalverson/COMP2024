{
    "cells": [
        {
            "cell_type": "markdown",
            "metadata": {},
            "source": [
                "# Homework 2: Classical Computational Physics, Classical Physics\n",
                "\n",
                "Due October 25.\n",
                "\n",
                "As discussed in class, we will have five homeworks in this class:\n",
                "- **Intro to Python**: you already did this one!\n",
                "- **Clasical Computational Physics: Classial Physics**: this one, due October 25.\n",
                "- **Classical Computational Physics: Quantum Physics**: preliminary due date November early November.\n",
                "- **Intro to ML-for-Physics**: preliminary due date November before Thanksgiving.\n",
                "- **Advanced ML-for-Physics**: preliminary due date December around December 5."
            ]
        },
        {
            "cell_type": "markdown",
            "metadata": {},
            "source": [
                "## Problem 1: I know it's a drag, but . . .\n",
                "\n",
                "The form of the velocity-dependent force of the resistance of the air is\n",
                "given by $$F_d=kv$$ where $k$ is a parameter that depends on the\n",
                "properties of the medium and the shape of the object. Since $F$\n",
                "increases as $v$ increases, there is a limiting velocity at which\n",
                "$F_d=F_g=mg$ and the acceleration vanishes:\n",
                "\n",
                "$$kv_t=mg \\Rightarrow v_t=\\frac{mg}{k}$$ \n",
                "\n",
                "In terms of the terminal speed,\n",
                "the force $F_d$ can be rewritten as $$F_d=mg(\\frac{v}{v_t}).$$ Hence,\n",
                "the net force on a falling object is: $$F=mg(1-\\frac{v}{v_t})$$\n",
                "\n",
                "Let's try a slightly different version of this problem where the force $F_d$ varies  with the square of the velocity $F_d=k_2 v^2.$ \n",
                "\n",
                "1.  Derive the net force on a falling object using this\n",
                "    expression, in units of the terminal velocity $v_t$. Do this within a markdown cell in the jupyter notebook.\n",
                "\n",
                "2.  Write a code to compute the speed at which a pebble of mass $m=10^{-2}kg$ reaches\n",
                "    the ground if it\u2019s dropped from rest at $y_0=50m$. Compare this\n",
                "    speed to that of a freely falling object under the same conditions.\n",
                "    Assume that the drag force is proportional to $v^2$ and the terminal\n",
                "    speed is $v_t=30m/s$. **Yes, much of this example was done in class, the point is to compare numerics to analytics.**\n",
                "\n",
                "3.  Solve the problem analytically (e.g., in Mathematica) and compare your numerical result to the analytic result. Write the result using markdown, and plot it in the same plot as your numerical result."
            ]
        },
        {
            "cell_type": "markdown",
            "metadata": {},
            "source": [
                "## Problem 2: It's a big world out there...\n",
                "\n",
                "According to Newton\u2019s law of gravitation, the action of the\n",
                "gravitational field of the earth on a particle is given by\n",
                "\n",
                "$$F=\\frac{GMm}{(R+y)^2}=\\frac{gm}{(1+y/R)^2},$$ \n",
                "\n",
                "where $y$ is measured\n",
                "from the earth\u2019s surface, $R$ is the earth\u2019s radius, $G$ is the\n",
                "gravitational constant, $M$ is the mass of the earth, and $g=GM/R^2$.\n",
                "1. Write a code to simulate the fall of a particle from an altitude $y_0$ with zero\n",
                "initial velocity, for two initial values $y_0 = 30m$ and $y_0=2R$, and compute its speed when it hits the ground.\n",
                "2. Now study the case of constant acceleration, $g=9.8m/s^2$. We want to measure how much the constant acceleration vs. variable acceleration matters. The output of part 1. is two pairs $(y_0, v_f)$ for the two different $y_0$'s. For each of those $v_f$ values, figure out the $y_0$ that achieves the same $v_f$ to within $1\\%$; compare that value of $y_0$ to the output of part 1, and whether you expected this.\n",
                "\n"
            ]
        },
        {
            "cell_type": "markdown",
            "metadata": {},
            "source": [
                "## Problem 3: JAWS!\n",
                "Any arbitrary\n",
                "periodic function $f(x)$ of period $T$ can be written as a Fourier\n",
                "series of sines and cosines:\n",
                "\n",
                "$$f(t)=\\frac{1}{2}a_{0}+\\sum_{n=1}^{\\infty }(a_{n}\\cos {n\\omega t}+b_{n}\\sin {%\n",
                "n\\omega t}),$$ \n",
                "where $\\omega _{0}$ is the fundamental angular frequency\n",
                "given by \n",
                "$$\\omega _{0}=\\frac{2\\pi }{T}.$$ \n",
                "The sine and cosine terms\n",
                "represent the harmonics. The Fourier coefficients $%\n",
                "a_{n}$ and $b_{n}$ are given by $$\\begin{align}\n",
                "a_{n} &=& \\frac{2}{T}\\int_{-T/2}^{T/2}{f(t)\\cos{n\\omega _0 t}dt}\\\\\n",
                "b_{n} &=& \\frac{2}{T}\\int_{-T/2}^{T/2}{f(t)\\sin{n\\omega _0 t}dt}\\\\\\end{align}$$\n",
                "The constant term $a_0/2$ is the average value of $f(t)$. (all the\n",
                "oscillating contributions vanish in average)\n",
                "\n",
                "In general, an infinite number of terms is needed to represent an\n",
                "arbitrary function $f(t)$. In practice, a good approximation can usually\n",
                "be obtained by including a relatively small number of terms.\n",
                "\n",
                "1.  Consider the following series \n",
                "    $f(t)=\\frac{2}{\\pi }\\sum_{n=1}^{\\infty }\\sin [(2n-1)t]/(2n-1).$ Plot $f(t)$ retaining only the first 3 terms. Increase\n",
                "    the number of terms until you (and the TA) are satisfied that you are converging\n",
                "    to $f(t)$ with some arbitrary but sufficient accuracy. What is the\n",
                "    function represented by the sum?\n",
                "\n",
                "2.  Let's try a groovy function. Use the analytical expression for the Fourier coefficients and\n",
                "    calculate the integrals using the \u201csawtooth\u201d function to show that they are effectively given by $a_{n}=0$ and\n",
                "    $b_{n}=(1/n\\pi\n",
                "    )(-1)^{n-1}$. Demonstrate numerically that these give the sawtooth.\n",
                "    \n",
                "    ![sawtooth](figures/sawtooth.jpg)\n",
                "\n",
                "3.  What function is represented by the Fourier series with coefficients $b_{2n-1} = (-1)^n /(2n-1)^2$, rest are zero? Plot it numerically up to a reasonable order.\n"
            ]
        },
        {
            "cell_type": "code",
            "execution_count": null,
            "metadata": {},
            "outputs": [],
            "source": []
        },
        {
            "cell_type": "code",
            "execution_count": null,
            "metadata": {},
            "outputs": [],
            "source": []
        },
        {
            "cell_type": "code",
            "execution_count": null,
            "metadata": {},
            "outputs": [],
            "source": []
        },
        {
            "cell_type": "markdown",
            "metadata": {},
            "source": [
                "## Problem 4: Damped Harmonic Oscillator\n",
                "\n",
                "Consider a damped harmonic oscillator $$\\frac{d^2x}{dt^2}=-\\omega _0^2x-\\gamma \\frac{dx}{dt},$$ where\n",
                "the \u201cdamping coefficient\u201d gamma is a measure of the friction. Note that\n",
                "the drag force opposes the motion.\n",
                "\n",
                "1. Wrote a code that solves the damped harmonic oscillator. Make runs for $\\omega _0^2=9$,\n",
                "    $x_0=1$, $v_0=0$, and $\\gamma=0.5$. You may find it beneficial to do this in an object-oriented way! (e.g. define a class for the particle which is oscillating.)\n",
                "\n",
                "2.  Compare the period and angular frequency to the undamped case. Is the\n",
                "    period longer or shorter? Make additional runs for $\\gamma = \n",
                "    1,2,3$. Does the frequency increase or decrease with greater\n",
                "    damping? Illustrate this with a plot.\n",
                "\n",
                "3.  Define the amplitude as the maximum value of $x$ in one cycle.\n",
                "    Compute the \u201crelaxation time\u201d $\\tau$, the time it takes for the\n",
                "    amplitude to change from its maximum to $1/e\\approx 0.37$ of its\n",
                "    maximum value. To do this, plot the maximum amplitud of each cycle,\n",
                "    and fit it with an exponential of the form $A_0 \\exp{-t/\\tau}$.\n",
                "    Compute $\\tau$ for each of the values of $\\gamma$ used in the previous\n",
                "    item and discuss the qualitative dependence of $\\tau$ with $\\gamma$."
            ]
        },
        {
            "cell_type": "markdown",
            "metadata": {},
            "source": [
                "## Problem 5: String with Friction\n",
                "\n",
                "The effect of the friction on an element of string $(x,x+\\Delta x)$ is\n",
                "to oppose its motion. Assume that the force of friction is proportional\n",
                "to the vertical velocity $\\partial u/\\partial t$ of the string element.\n",
                "This changes the wave equation to\n",
                "\n",
                "$$\\frac{\\partial ^{2}u}{\\partial t^{2}}+2\\kappa \\frac{\\partial u}{\\partial t}=%\n",
                "\\frac{\\partial ^{2}u}{\\partial x^{2}},$$\n",
                "\n",
                " where the constant $\\kappa $ is\n",
                "proportional to the viscosity of the medium in which the string is\n",
                "vibrating, and is inversely proportional to the density of the string.\n",
                "Generalize your previous algorithm (from class) for the wave equation to include friction and\n",
                "observe the change in the wave behavior, by plotting it. Use the same parameters of the\n",
                "previous example, and also take $\\kappa =5$."
            ]
        },
        {
            "cell_type": "markdown",
            "metadata": {},
            "source": []
        }
    ],
    "metadata": {
        "kernelspec": {
            "display_name": "Python 3 (ipykernel)",
            "language": "python",
            "name": "python3"
        },
        "language_info": {
            "codemirror_mode": {
                "name": "ipython",
                "version": 3
            },
            "file_extension": ".py",
            "mimetype": "text/x-python",
            "name": "python",
            "nbconvert_exporter": "python",
            "pygments_lexer": "ipython3",
            "version": "3.11.4"
        }
    },
    "nbformat": 4,
    "nbformat_minor": 2
}