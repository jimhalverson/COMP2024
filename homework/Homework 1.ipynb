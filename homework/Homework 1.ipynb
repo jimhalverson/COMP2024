{
    "cells": [
        {
            "cell_type": "markdown",
            "metadata": {},
            "source": [
                "# Homework 1: Due October 8\n",
                "\n",
                "As this is a skills-based course, we need to both practice the skills and sometimes do some practical things that will help you exercise those skills in your Ph.D. research.\n",
                "\n",
                "In this homework we will focus on a few items:\n",
                "- Essentials of Python, exemplified in computations of $\\pi$.\n",
                "- Project proposal.\n",
                "- Cluster computing accounts.\n",
                "\n",
                "All problems are out of $5$ points. Any \"level up\" is worth $2$ points extra credit."
            ]
        },
        {
            "cell_type": "markdown",
            "metadata": {},
            "source": [
                "# Problem 1: Computing $\\pi$ with Monte Carlo\n",
                "\n",
                "In this problem we will use a Monte Carlo method to compute $\\pi$. To do so:\n",
                "\n",
                "1. Sample $x$ and $y$ uniformly from $[-1,1]$, $N$ times.\n",
                "2. As $N\\to \\infty$, the fraction of points that fall within the unit circle will be the ratio of the area of the unit circle to the area of the square, which is $4$. Use this to approximate $\\pi$.\n",
                "3. For each $N \\in [10, 100, 1000, 10000, 100000, 1000000]$, approximate $\\pi$ ten times. For each $N$, plot the mean $\\pi$ vs. $N$ and use the standard deviation to plot the error bars. Add a horizontal dashed line indicating the 'true' value of $\\pi$ (using np.pi.)"
            ]
        },
        {
            "cell_type": "code",
            "execution_count": null,
            "metadata": {},
            "outputs": [],
            "source": []
        },
        {
            "cell_type": "markdown",
            "metadata": {},
            "source": [
                "# Problem 2: Computing $\\pi$ the old fashioned way.\n",
                "\n",
                "You may have heard that $\\pi$ shows up in circles. Here we'll confirm it.\n",
                "1. Use `numpy` to generate a sequence of $N$ points evenly spaced on the unit circle.\n",
                "2. Compute the Euclidean distance between each point and the next.\n",
                "3. As $N\\to \\infty$, the sum of these distances will approach the circumference of the unit circle. Use this to approximate $\\pi$ for each $N \\in [10, 100, 1000, 10000, 100000, 1000000]$. Do it with an $O(N)$ algorithm. Plot your experimental values of $\\pi$ vs. $N$, with a horizontal dashed line indicating the \"true\" value of $\\pi$ (using np.pi).\n",
                "\n",
                "\n",
                "*Level Up:* You probably did three with an $O(N)$ algorithm. Think a little, and do the computation with an $O(1)$ algorithm."
            ]
        },
        {
            "cell_type": "code",
            "execution_count": null,
            "metadata": {},
            "outputs": [],
            "source": []
        },
        {
            "cell_type": "code",
            "execution_count": null,
            "metadata": {},
            "outputs": [],
            "source": []
        },
        {
            "cell_type": "markdown",
            "metadata": {},
            "source": [
                "# Problem 3: Primed for Computational Physics\n",
                "\n",
                "Getting ready for computational physics means understanding that there can be fast and slow ways to do the same thing. For this problem:\n",
                "\n",
                "1. Write an algorithm for computing all primes up to $N$ by using a double for loop to check divisibilitym, rejecting anything divisible.\n",
                "2. Look up the Sieve of Eratosthenes, an ancient faster algorithm for the same problem. Implement it.\n",
                "3. Run both algorithms for all `N` in the list `Ns = [4**k for k in range(4,10)]` and use the time module to  track the time it takes. Plot the time it takes for each algorithm vs. $N$ on a log-log plot and extract the exponent of the power law dependence from the slope."
            ]
        },
        {
            "cell_type": "code",
            "execution_count": null,
            "metadata": {},
            "outputs": [],
            "source": []
        },
        {
            "cell_type": "markdown",
            "metadata": {},
            "source": [
                "# Problem 4: Class Project Proposal\n",
                "\n",
                "Write one slide for your class project proposal. The slide should include.\n",
                "- your name, project title, and project advisor.\n",
                "- a column explaining the physics problem you are trying to solve.\n",
                "- a column explaining why it requires a non-trivial computational physics technique.\n",
                "\n",
                "If you truly cannot find someone to advise the project before October 8, you can push this problem to the next problem set. **I highly recommend you line up a project advisor ASAP, though.**"
            ]
        },
        {
            "cell_type": "markdown",
            "metadata": {},
            "source": [
                "# Problem 5: Discovery Cluster\n",
                "\n",
                "Computing clusters are important for making scientific progress. At Northeastern, ours is the Discovery Cluster, which you can find [here](https://rc.northeastern.edu/). In this problem:\n",
                "1. Obtain an account on Discovery.\n",
                "2. Login with `ssh`. syntax is 'ssh USERNAME@login.discovery.neu.edu'\n",
                "3. Install Anaconda locally on your Discovery account. Alternatively, consider using [miniconda](https://docs.conda.io/projects/miniconda/en/latest/), which is a more-lightweight version of Anaconda.\n",
                "4. Create a conda environment `COMP` that we can utilize for later homeworks.\n",
                "5. Login again, enter your virtual environment, run `ls`, and take a screenshot of the output so that Sneh can see that you have an account and have installed Anaconda."
            ]
        },
        {
            "cell_type": "markdown",
            "metadata": {},
            "source": []
        },
        {
            "cell_type": "markdown",
            "metadata": {},
            "source": [
                "# Another Level Up:\n",
                "\n",
                "I am trying to gauge how hard homeworks are for the class, given the variance in background. Please estimate the total number of hours spend on this assignment."
            ]
        },
        {
            "cell_type": "markdown",
            "metadata": {},
            "source": []
        }
    ],
    "metadata": {
        "kernelspec": {
            "display_name": "COMP",
            "language": "python",
            "name": "python3"
        },
        "language_info": {
            "codemirror_mode": {
                "name": "ipython",
                "version": 3
            },
            "file_extension": ".py",
            "mimetype": "text/x-python",
            "name": "python",
            "nbconvert_exporter": "python",
            "pygments_lexer": "ipython3",
            "version": "3.12.5"
        },
        "orig_nbformat": 4
    },
    "nbformat": 4,
    "nbformat_minor": 2
}