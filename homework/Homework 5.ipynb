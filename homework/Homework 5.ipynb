{
 "cells": [
  {
   "cell_type": "markdown",
   "metadata": {},
   "source": [
    "# Homework 5: Due Dec Dec 12, 10PM"
   ]
  },
  {
   "cell_type": "markdown",
   "metadata": {},
   "source": [
    "# Problem 0: Your Final Project, Due Dec 12, 10PM\n",
    "\n",
    "Let me clarify that the outset: homework 5 and your final project are *distinct*. The entirety of your grade on homework 5 is determined by your results from problems $1$ and $2$, which have nothing to do with your final project grade. Instead, I'm just using this as a space to clarify how you will present your final project.\n",
    "\n",
    "Since we have over $20$ people in the class, your final project will be submitted as a slide deck, rather than presented in class. The slide deck should be $5$ slides long, and should be submitted as a PDF. The slides should be organized as follows:\n",
    "- Slide 1: Title slide, with your name, project title, and project supervisor.\n",
    "- Slide 2: The Problem.\n",
    "- Slide 3: Computational Technique.\n",
    "- Slides 4-5: Clear presentation of results.\n",
    "\n",
    "Deviation from this format will be penalized -- for fairness, I need to set guidelines for how the material is presented. "
   ]
  },
  {
   "cell_type": "markdown",
   "metadata": {},
   "source": [
    "# Problem 1: Topological Data\n",
    "\n",
    "In this problem we'll study the topology of two datasets located at `data/tda_1.pkl` and `data/tda_2.pkl`. For each of the datasets below:\n",
    "1. Compute the persistent homology.\n",
    "2. Analyze the persistence diagrams to determine the true (long-lived) topological features. State the number of non-trivial $k$-cycles for different $k$.\n",
    "3. *Level up / extra credit:* In the second dataset, use the result to guess the higher-dimensional manifold that the data is sampled from. If stuck, look up the Betti numbers of simple manifolds of appropriate dimension.\n",
    "\n",
    "Note: in the second dataset you'll have to pass the flag `maxdim` flag to ripser, since it is higher dimensional data. The data dimension is $4$, so that's the biggest value that makes sense to pass; if $4$ doesn't finish, try $3$, which is crucial to the problem."
   ]
  },
  {
   "cell_type": "code",
   "execution_count": null,
   "metadata": {},
   "outputs": [],
   "source": []
  },
  {
   "cell_type": "code",
   "execution_count": null,
   "metadata": {},
   "outputs": [],
   "source": []
  },
  {
   "cell_type": "code",
   "execution_count": null,
   "metadata": {},
   "outputs": [],
   "source": []
  },
  {
   "cell_type": "markdown",
   "metadata": {},
   "source": [
    "# Problem 2: Decoding Messages from Higher Dimensions\n",
    "\n",
    "This is the last problem of the course! I appreciate all of your hard work, and hope you've enjoyed the material. We've only scratched the surface of computational techniques that can be used in your research, but hopefully your base is broad enough now that you'll be able to take a few new angles.  \n",
    "\n",
    "We'll study a $10d$ dataset that serves as a metaphor for the course more broadly: oftentimes structure permeates the data, but it is not immediately obvious due to our biases, lack of resources, and human limitations. Part of being a good scientist is being able to move past those obtacles to extract meaning from the data.\n",
    "\n",
    "In this problem:\n",
    "1. Load the data from `data/pca_and_clustering.pkl`.\n",
    "2. Run PCA and extract the message. You'll know it when you see it. Orient things correctly, if they're not already.\n",
    "3. Cluster the data in a way that seems natural given the PCA result, and use the cluster labels as colors to make a pretty plot.\n"
   ]
  },
  {
   "cell_type": "code",
   "execution_count": null,
   "metadata": {},
   "outputs": [],
   "source": []
  },
  {
   "cell_type": "code",
   "execution_count": null,
   "metadata": {},
   "outputs": [],
   "source": []
  },
  {
   "cell_type": "code",
   "execution_count": null,
   "metadata": {},
   "outputs": [],
   "source": []
  },
  {
   "cell_type": "code",
   "execution_count": null,
   "metadata": {},
   "outputs": [],
   "source": []
  }
 ],
 "metadata": {
  "kernelspec": {
   "display_name": "COMP",
   "language": "python",
   "name": "python3"
  },
  "language_info": {
   "codemirror_mode": {
    "name": "ipython",
    "version": 3
   },
   "file_extension": ".py",
   "mimetype": "text/x-python",
   "name": "python",
   "nbconvert_exporter": "python",
   "pygments_lexer": "ipython3",
   "version": "3.11.4"
  }
 },
 "nbformat": 4,
 "nbformat_minor": 2
}
