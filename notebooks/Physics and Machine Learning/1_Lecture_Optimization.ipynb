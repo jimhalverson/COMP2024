{
    "cells": [
        {
            "cell_type": "markdown",
            "id": "197c118e",
            "metadata": {},
            "source": [
                "# Optimization and Cosmological Constants\n",
                "\n",
                "Much of life is an optimization problem. Crucially, optimization problems come not only objectives, but also constraints, sometimes *multiple* constraints. These constraints may be aligned, or may be at odds with one another. Let's talk about some examples!\n",
                "\n",
                "In this course we've already seen one optimization technique: gradient descent. In this lecture we'll talk about optimization in general. This is important because gradient descent has its shortcoming, for instance it can get stuck in local minima and is not applicable in discrete problems. We'll talk about some other optimization techniques that can help us avoid these problems: simulated annealing and genetic algorithms.\n",
                "\n",
                "# Bousso-Polchinski Model\n",
                "\n",
                "We will apply these techniques to a problem that is very important in cosmology: the cosmological constant problem. This is the problem of why the cosmological constant is so small. In 2000, Bousso and Polchinski gave a new answer to this problem from string theory, that there is a discretuum of vacua with different values of the cosmological constant. This large discretuum (at least, to the extent that the toy model is accurate) ensures the existence of small cosmological constants in string theory, but it doesn't mean it's easy to *find* them. We'll use optimization techniques to find them.\n",
                "\n",
                "In the Bousso-Polchinski model, we have \n",
                "\n",
                "$\\Lambda = \\Lambda_0 + N\\cdot N$\n",
                "\n",
                "where $N\\in \\mathbb{Z}^{h_{21}}$ is a vector of integers and $\\Lambda_0 < 0$. There are many reasons that this is a toy model, but it gets the essential conceptual idea correct. The problem problem is that the observed cosmological constant in Nature is $10^{-120}$ in Planck units, and therefore the goal of the BP model is to find $N$ such that \n",
                "\n",
                "$0 < \\Lambda < \\epsilon$\n",
                "\n",
                "One can think of this as adding up fluxes to lie in a shell slightly between spheres of radius $\\Lambda_0$ and $\\Lambda_0 + \\epsilon$. We won't go all the way to $10^{-120}$, but we'll be happy to just get within a very thin shell.\n",
                "\n"
            ]
        },
        {
            "cell_type": "code",
            "execution_count": null,
            "id": "c91af5d8",
            "metadata": {},
            "outputs": [],
            "source": []
        },
        {
            "cell_type": "markdown",
            "id": "96de594e",
            "metadata": {},
            "source": [
                "# Random Search\n",
                "\n",
                "This part isn't rocket science. Our vectors are \n",
                "\n",
                "$$N \\in \\mathbb{Z}^{h_{21}}$$\n",
                "\n",
                "where the integers in the vectors are restricted to lie between $-2^M$ and $2^M$. If we pick them randomly, how do we do?"
            ]
        },
        {
            "cell_type": "code",
            "execution_count": null,
            "id": "aa776b8f",
            "metadata": {},
            "outputs": [],
            "source": []
        },
        {
            "cell_type": "markdown",
            "id": "bdb14a9e",
            "metadata": {},
            "source": [
                "Let's be a little more systematic."
            ]
        },
        {
            "cell_type": "code",
            "execution_count": null,
            "id": "b11ae4bc",
            "metadata": {},
            "outputs": [],
            "source": []
        },
        {
            "cell_type": "markdown",
            "id": "ed3c3fb7",
            "metadata": {},
            "source": [
                "To prove the point, let's let this go for *awhile*"
            ]
        },
        {
            "cell_type": "code",
            "execution_count": null,
            "id": "62808a0d",
            "metadata": {},
            "outputs": [],
            "source": []
        },
        {
            "cell_type": "markdown",
            "id": "c7eb8f28",
            "metadata": {},
            "source": [
                "# Simulated Annealing\n",
                "\n",
                "We can do better. We can use a technique called simulated annealing. The basic idea is to think of the problem as some energy minimization, and then slowly cool the system, introducing fluctuation in a natural way, and hoping that the \"cooling\" system finds a good minimum of the energy.\n",
                "\n",
                "In this problem, we have \n",
                "$$E(N) = |N\\cdot N - \\Lambda_0|$$\n",
                "\n",
                "The basic steps in the algorithm are:\n",
                "- Pick a random vector $N$ at init.\n",
                "- Pick a random integer $i$.\n",
                "- Do something to the $i$th element of $N$, call this $N'$.\n",
                "- If $E(N) < E(N')$, then accept the new vector.\n",
                "- If $E(N) > E(N')$, then accept the new vector with probability $e^{-\\frac{E(N') - E(N)}{T}}$.\n",
                "- Make $T$ smaller next time around.\n",
                "- Iterate."
            ]
        },
        {
            "cell_type": "code",
            "execution_count": null,
            "id": "3e41262f",
            "metadata": {},
            "outputs": [],
            "source": []
        },
        {
            "cell_type": "markdown",
            "id": "9cfdd779",
            "metadata": {},
            "source": [
                "Already much better in .1s than 10s of seconds with random search. Let's crank up the number of iterations and cool more slowly."
            ]
        },
        {
            "cell_type": "code",
            "execution_count": null,
            "id": "aa08d2ec",
            "metadata": {},
            "outputs": [],
            "source": []
        },
        {
            "cell_type": "markdown",
            "id": "bbc723f7",
            "metadata": {},
            "source": [
                "# Genetic Algorithms"
            ]
        },
        {
            "cell_type": "code",
            "execution_count": null,
            "id": "ae68c232",
            "metadata": {},
            "outputs": [],
            "source": []
        },
        {
            "cell_type": "markdown",
            "id": "d2debcfa",
            "metadata": {},
            "source": [
                "But don't you know that evolution takes time?"
            ]
        },
        {
            "cell_type": "code",
            "execution_count": null,
            "id": "9ff525c0",
            "metadata": {},
            "outputs": [],
            "source": []
        },
        {
            "cell_type": "markdown",
            "id": "49a9fa44",
            "metadata": {},
            "source": [
                "# Sample and Bump\n",
                "\n",
                "Alternatively, we can try sampling a random unit vector, putting it on the sphere, and bumping it to an integer. How does this work?"
            ]
        },
        {
            "cell_type": "code",
            "execution_count": null,
            "id": "e3de8110",
            "metadata": {},
            "outputs": [],
            "source": []
        },
        {
            "cell_type": "markdown",
            "id": "7cdbbc68",
            "metadata": {},
            "source": [
                "Ok, so this worked better than expected. What are some downsides of this technique?"
            ]
        },
        {
            "cell_type": "markdown",
            "id": "501e2006",
            "metadata": {},
            "source": []
        }
    ],
    "metadata": {
        "kernelspec": {
            "display_name": "Python 3 (ipykernel)",
            "language": "python",
            "name": "python3"
        },
        "language_info": {
            "codemirror_mode": {
                "name": "ipython",
                "version": 3
            },
            "file_extension": ".py",
            "mimetype": "text/x-python",
            "name": "python",
            "nbconvert_exporter": "python",
            "pygments_lexer": "ipython3",
            "version": "3.11.4"
        }
    },
    "nbformat": 4,
    "nbformat_minor": 5
}