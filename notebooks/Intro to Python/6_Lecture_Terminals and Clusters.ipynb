{
    "cells": [
        {
            "cell_type": "markdown",
            "metadata": {},
            "source": [
                "# Terminals\n",
                "\n",
                "The ``terminal`` or command line is a text-based interface to your computer. It is a program that takes commands as input, and prints text as output. It is a very powerful tool for interacting with your computer, and *is the primary way to interact with remote computers*.\n",
                "\n",
                "In particular, to use the Discovery cluster, you need to use a terminal. This notebook will introduce you to the basics of using a terminal, and essential discovery commands."
            ]
        },
        {
            "cell_type": "markdown",
            "metadata": {},
            "source": [
                "Some essential terminal commands are:\n",
                "- ``ls``: list the contents of the current directory\n",
                "- ``cd``: change directory\n",
                "- ``mkdir``: make a new directory\n",
                "- ``rm``: remove a file or directory\n",
                "- ``cp``: copy a file or directory\n",
                "- ``mv``: move a file or directory\n",
                "- ``cat``: print the contents of a file\n",
                "\n",
                "The first three commands are about nagivating the file system, and the last four are about manipulating files and directories.\n",
                "\n",
                "Also essential to manipulating a file is a text-editor. Some of the most popular are :\n",
                "- ``vim``: a terminal-based editor that is very powerful, but has a steep learning curve\n",
                "- ``emacs``: a terminal-based editor that is also very powerful and has a learning curve. Compared to ``vim``, some people think it is more intuitive, but it is also less efficient.\n",
                "- ``nano``: for beginners, this is the place to start. We'll use ``nano`` today."
            ]
        },
        {
            "cell_type": "markdown",
            "metadata": {},
            "source": [
                "# Discovery\n",
                "\n",
                "Northeastern's computing cluster is called Discovery. You have an account now, and I'd like to make sure you know the basics. It uses SLURM to manage jobs. You can read more about SLURM [here](https://slurm.schedmd.com/overview.html).\n",
                "\n",
                "Today I'll teach you some of the basic interactions that I have with Discovery. The more advanced among you might find my techniques suboptimal, but they work for me. I encourage you to explore and find your own way of interacting with Discovery."
            ]
        },
        {
            "cell_type": "markdown",
            "metadata": {},
            "source": [
                "### Logging In\n",
                "\n",
                "``ssh jhhalverson@login.discovery.neu.edu``"
            ]
        },
        {
            "cell_type": "markdown",
            "metadata": {},
            "source": [
                "### .bashrc\n",
                "\n",
                "I'm going to begin in my home directory and ``nano .bashrc`` to show you my ``.bashrc`` file. This file is run every time I open a terminal. It sets up my conda environment, and crucially in mine I have a folder called localbin added to the ``$PATH``.\n",
                "\n",
                "```\n",
                "export PATH=\"/home/jhhalverson/localbin:$PATH\"\n",
                "```"
            ]
        },
        {
            "cell_type": "markdown",
            "metadata": {},
            "source": [
                "### localbin\n",
                "\n",
                "Let's check out my directory localbin.\n",
                "\n",
                "![Alt text](image.png)\n",
                "\n",
                "These are little commands I've written over the years to make interacting with Discovery easier. You could also do it with aliases, but I like having the commands in a folder. Let's look at some of them\n",
                "\n",
                "Some of my local bin commands are:\n",
                "- ``short``: ``srun --pty -p short /bin/bash``, requests access to the short parition\n",
                "- ``me``: ``squeue -l -u jhhalverson``, shows my jobs\n",
                "- ``killmyjobs``: ``scancel -u jhhalverson``, kills all my jobs."
            ]
        },
        {
            "cell_type": "markdown",
            "metadata": {},
            "source": [
                "# Discovery Interaction Types"
            ]
        },
        {
            "cell_type": "markdown",
            "metadata": {},
            "source": [
                "### Computing on a Node"
            ]
        },
        {
            "cell_type": "markdown",
            "metadata": {},
            "source": [
                "Login to a particular type of node, e.g. with ``short`` above. If you want to lock down the entire node because you're going to use all of the CPUs or all of the RAM, throw the ``--exclusive`` flag.\n",
                "\n",
                "To see on a given node the RAM and CPU info, do `lsmem` and `lscpu`."
            ]
        },
        {
            "cell_type": "markdown",
            "metadata": {},
            "source": [
                "### Submitting a Job\n",
                "\n",
                "Here's an example of a job file,\n",
                "\n",
                "```\n",
                "#!/bin/bash\n",
                "#SBATCH --job-name=my_job_20\n",
                "#SBATCH --output=my_job_20.out\n",
                "#SBATCH --error=my_job_20.err\n",
                "#SBATCH --ntasks=1\n",
                "#SBATCH --cpus-per-task=28\n",
                "#SBATCH --partition=long\n",
                "#SBATCH --exclusive\n",
                "#SBATCH --output=workdir/my_job_20.out\n",
                "#SBATCH --error=workdir/my_job_20.err\n",
                "#SBATCH --time=00:30:00\n",
                "\n",
                "cd for_sneh\n",
                "python to_call_many_times.py --arg-to-print 20\n",
                "```\n",
                "\n",
                "It was written by the submitter I describe below and was called ``run_script_arg_20.sh``. \n",
                "\n",
                "To submit it to the cluster, I would do ``sbatch run_script_arg_20.sh``."
            ]
        },
        {
            "cell_type": "markdown",
            "metadata": {},
            "source": [
                "### Writing a Script that Submits Many Jobs\n",
                "\n",
                "\n",
                "#### DO NOT MISUSE THIS!\n",
                "\n",
                "Working with job files is easy, but sometimes you have *many* jobs you want to run, and it can be useful to write a script that writes and submits jobs.\n",
                "\n",
                "This is my submitter.py:\n",
                "```\n",
                "import os\n",
                "import subprocess\n",
                "\n",
                "def generate_slurm_script(arg_value):\n",
                "    script_name = f\"run_script_arg_{arg_value}.sh\"\n",
                "    with open(script_name, 'w') as f:\n",
                "        f.write(f\"#!/bin/bash\\n\")\n",
                "        f.write(f\"#SBATCH --job-name=my_job_{arg_value}\\n\")\n",
                "        f.write(f\"#SBATCH --output=my_job_{arg_value}.out\\n\")\n",
                "        f.write(f\"#SBATCH --error=my_job_{arg_value}.err\\n\")\n",
                "        f.write(f\"#SBATCH --ntasks=1\\n\")\n",
                "        f.write(f\"#SBATCH --cpus-per-task=28\\n\")\n",
                "        f.write(f\"#SBATCH --partition=long\\n\")  # Replace with your desired partition\n",
                "        f.write(f\"#SBATCH --exclusive\")\n",
                "        f.write(f\"#SBATCH --output=workdir/my_job_{arg_value}.out\\n\")\n",
                "        f.write(f\"#SBATCH --error=workdir/my_job_{arg_value}.err\\n\")\n",
                "        f.write(f\"#SBATCH --time=00:30:00\\n\")\n",
                "        f.write(f\"\\n\")\n",
                "        f.write(f\"cd for_sneh\\n\")\n",
                "        f.write(f\"python to_call_many_times.py --arg-to-print {arg_value}\\n\")\n",
                "\n",
                "    print(f\"SLURM script '{script_name}' generated.\")\n",
                "\n",
                "    # Submit the SLURM script\n",
                "    subprocess.run(['sbatch', script_name])\n",
                "\n",
                "if __name__ == '__main__':\n",
                "    arg_values = [10, 20, 30, 40]\n",
                "    for value in arg_values:\n",
                "        generate_slurm_script(value)\n",
                "```\n",
                "\n",
                "and the associated file that it calls, ``to_call_many_times.py``:\n",
                "\n",
                "```\n",
                "import argparse\n",
                "import multiprocessing as mp\n",
                "import os\n",
                "import uuid\n",
                "\n",
                "def my_func(arg_to_print):\n",
                "    unique_filename = str(uuid.uuid4())[:6]  # Generate a unique string of length 6\n",
                "    output_file = os.path.join('./exp', f'unique_file_name_{unique_filename}_arg_{arg_to_print}.txt')\n",
                "    \n",
                "    with open(output_file, 'w') as f:\n",
                "        f.write(str(arg_to_print))\n",
                "    \n",
                "    print(f\"Result saved to {output_file}\")\n",
                "\n",
                "if __name__ == '__main__':\n",
                "    parser = argparse.ArgumentParser(description='Process an integer and save it to a unique file')\n",
                "    parser.add_argument('--arg-to-print', type=int, help='The integer to print')\n",
                "    args = parser.parse_args()\n",
                "    \n",
                "    pool = mp.Pool(processes=28)\n",
                "    pool.map(my_func, [args.arg_to_print] * 40)\n",
                "    pool.close()\n",
                "    pool.join()\n",
                "```"
            ]
        },
        {
            "cell_type": "markdown",
            "metadata": {},
            "source": []
        },
        {
            "cell_type": "markdown",
            "metadata": {},
            "source": []
        },
        {
            "cell_type": "markdown",
            "metadata": {},
            "source": []
        },
        {
            "cell_type": "markdown",
            "metadata": {},
            "source": [
                "# Data Storage\n",
                "\n",
                "On the ``scratch\" space, you have a lot more room to save files than in home directory.\n",
                "\n",
                "Mine is in ``/scratch/jhhalverson``. Replace your username for mine."
            ]
        },
        {
            "cell_type": "markdown",
            "metadata": {},
            "source": [
                "# Cluster Etiquette"
            ]
        },
        {
            "cell_type": "markdown",
            "metadata": {},
            "source": [
                "Be careful, lots of people are trying to use these **free** resources. Be a good citizen. \n",
                "\n",
                "A few ways to do that are: \n",
                "- Don't use the login node for computing.\n",
                "- **Request reasonable resources** based on the job. e.g., don't request 100 GB of RAM if you only need 1 GB. e.g., don't request 100 CPUs if you only need 1 CPU. But if you're going to either use all of the RAM or all of the CPUs, then use ``--exclusive``.\n",
                "\n",
                "Note: if your code finishes after submitting a job, it'll exit out. If you've just run it from a fixed node that you logged into, it'll keep running. So if you're going to run a job for a long time, submit it as a job."
            ]
        },
        {
            "cell_type": "markdown",
            "metadata": {},
            "source": []
        }
    ],
    "metadata": {
        "language_info": {
            "name": "python"
        },
        "orig_nbformat": 4
    },
    "nbformat": 4,
    "nbformat_minor": 2
}