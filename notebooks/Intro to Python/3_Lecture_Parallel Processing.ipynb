{
    "cells": [
        {
            "cell_type": "markdown",
            "id": "e84bae78",
            "metadata": {},
            "source": [
                "# Parallel Processing\n",
                "\n",
                "You probably have a multi-core CPU, and for tedious tasks I highly recommend you use it.\n",
                "\n",
                "Let's talk a little bit about when it's useful. Suppose we have the following:\n",
                "- $T$ tasks you want to compute that are independent of one another (perhaps the same sort of task with different parameter values)\n",
                "- $N$ CPUs on your computer\n",
                "- $M$ GB of memory\n",
                "- $t$ is the time it takes all tasks to run on one core.\n",
                "- $m$ is the amount of memory taken by each task.\n",
                "\n",
                "If $Nm < M$, then you can run one task on each of the $N$ cores. This will take $\\frac{t}{N}$ time. (It's all a little more complicated than this for hardware reasons, but let's not worry about that).\n",
                "\n",
                "There are many libraries for parallel processing in Python. Today we'll use `joblib`."
            ]
        },
        {
            "cell_type": "code",
            "execution_count": null,
            "id": "03d5413c",
            "metadata": {},
            "outputs": [],
            "source": []
        },
        {
            "cell_type": "code",
            "execution_count": null,
            "id": "487677cf",
            "metadata": {},
            "outputs": [],
            "source": []
        },
        {
            "cell_type": "markdown",
            "id": "78aa0645",
            "metadata": {},
            "source": [
                "We need some function we want to repeat. Imagine you love computing factorials of random integers slowly."
            ]
        },
        {
            "cell_type": "code",
            "execution_count": null,
            "id": "dca47ccd",
            "metadata": {},
            "outputs": [],
            "source": []
        },
        {
            "cell_type": "code",
            "execution_count": null,
            "id": "accc6475",
            "metadata": {},
            "outputs": [],
            "source": []
        },
        {
            "cell_type": "markdown",
            "id": "d32c3d6c",
            "metadata": {},
            "source": [
                "Took about 10 seconds. Not surprising. Why?"
            ]
        },
        {
            "cell_type": "code",
            "execution_count": null,
            "id": "90a744c6",
            "metadata": {},
            "outputs": [],
            "source": []
        },
        {
            "cell_type": "code",
            "execution_count": null,
            "id": "ce73f2d9",
            "metadata": {},
            "outputs": [],
            "source": []
        },
        {
            "cell_type": "code",
            "execution_count": null,
            "id": "b1f4d857",
            "metadata": {},
            "outputs": [],
            "source": []
        },
        {
            "cell_type": "markdown",
            "id": "bc0a3f42",
            "metadata": {},
            "source": [
                "Clearly there is some degradation here, but still, better than nothing.\n",
                "\n",
                "What if we set N higher and wanted to check progress in real time? Use `tqdm`."
            ]
        },
        {
            "cell_type": "code",
            "execution_count": null,
            "id": "b8f09647",
            "metadata": {},
            "outputs": [],
            "source": []
        },
        {
            "cell_type": "markdown",
            "id": "9b25ed5c",
            "metadata": {},
            "source": [
                "On my desktop that has a Ryzen threadripper with 24 cores and 48 threads, I set $n_\\text{jobs}$ to $50$, $100$, and finished in $\\sim 2$ and $\\sim 3$ seconds, respectively."
            ]
        },
        {
            "cell_type": "markdown",
            "id": "b45738c7",
            "metadata": {},
            "source": []
        }
    ],
    "metadata": {
        "kernelspec": {
            "display_name": "Python 3 (ipykernel)",
            "language": "python",
            "name": "python3"
        },
        "language_info": {
            "codemirror_mode": {
                "name": "ipython",
                "version": 3
            },
            "file_extension": ".py",
            "mimetype": "text/x-python",
            "name": "python",
            "nbconvert_exporter": "python",
            "pygments_lexer": "ipython3",
            "version": "3.11.4"
        }
    },
    "nbformat": 4,
    "nbformat_minor": 5
}