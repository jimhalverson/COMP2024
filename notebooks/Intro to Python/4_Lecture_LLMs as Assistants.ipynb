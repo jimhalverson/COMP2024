{
    "cells": [
        {
            "cell_type": "markdown",
            "id": "005f68c5",
            "metadata": {},
            "source": [
                "# Large Language Models\n",
                "\n",
                "Surely you've heard of ChatGPT. It's a large language model, which is a type of neural network used for natural language processing, amongst other things, based on the Transformer architecture.\n",
                "\n",
                "We'll see two language models in this class:\n",
                "- [Copilot](https://copilot.github.com), an AI pair programmer you've already seen in this course.\n",
                "- [ChatGPT](http://chat.openai.com) or GPT-4, which is a large language model trained on a large corpus of text from the internet by OpenAI. Relative to Copilot, it generates larger blocks of reliable text but doesn't have quite the line-by-line pair programmer feeling of CoPilot."
            ]
        },
        {
            "cell_type": "markdown",
            "id": "204bb310",
            "metadata": {},
            "source": [
                "# Copilot\n",
                "\n",
                "Your AI pair programmer.\n",
                "\n",
                "In this class, we'll use Copilot primarily in two ways, which you've seen already. \n",
                "\n",
                "The first is code completion. We'll begin with `fibonacci = ` and see what it gives."
            ]
        },
        {
            "cell_type": "code",
            "execution_count": null,
            "id": "85b6edbb",
            "metadata": {},
            "outputs": [],
            "source": []
        },
        {
            "cell_type": "markdown",
            "id": "db510b98",
            "metadata": {},
            "source": [
                "If it did as expected in Sept. 2023, it just gave a list of Fibonacci numbers. Maybe this was what you wanted, but maybe it wasn't! What I wanted when I wrote this was a Fibonacci generating function. So let's try that.\n",
                "\n",
                "`def fibonacci_generator_from_scratch(N):` is the prompt we'll use.\n",
                "\n",
                "Any idea why I wrote `from_scratch`?"
            ]
        },
        {
            "cell_type": "code",
            "execution_count": null,
            "id": "78e8d6a1",
            "metadata": {},
            "outputs": [],
            "source": []
        },
        {
            "cell_type": "code",
            "execution_count": null,
            "id": "9e7f8270",
            "metadata": {},
            "outputs": [],
            "source": []
        },
        {
            "cell_type": "code",
            "execution_count": null,
            "id": "31fa0044",
            "metadata": {},
            "outputs": [],
            "source": []
        },
        {
            "cell_type": "markdown",
            "id": "a1cf6ed2",
            "metadata": {},
            "source": [
                "We can also use comments to prompt Copilot. For example, `# compute pi as a series` will give us a series for computing pi."
            ]
        },
        {
            "cell_type": "code",
            "execution_count": null,
            "id": "7a73f5d4",
            "metadata": {},
            "outputs": [],
            "source": []
        },
        {
            "cell_type": "markdown",
            "id": "7d51a0cb",
            "metadata": {},
            "source": [
                "# ChatGPT and GPT-4\n",
                "\n",
                "To give you a sense of GPT, I'll give you an example that I used in my personal life recently, showing you the private data but not posting to Git; I'll use a dummy image instead in this notebook.\n",
                "\n",
                "**Problem Statement:** my daughter Evie turned 1! We had $13$ images printed out for a collage of sorts for her birthday party. Afterwards, I wanted to combine the image files into one image, but it's a little awkward because $13$ is prime and doesn't divide nicely into a grid.\n",
                "\n",
                "You can find the conversation I had with GPT-4 [here](https://chat.openai.com/share/a811bacf-ffc1-4922-ad38-233de2ef036a). I'll show you the prompts and output here in case the link doesn't work in the future."
            ]
        },
        {
            "cell_type": "markdown",
            "id": "188a8c3f",
            "metadata": {},
            "source": [
                "**Prompt:** write me a simple python code that combines 13 images of almost exactly the same size into one impage"
            ]
        },
        {
            "cell_type": "code",
            "execution_count": null,
            "id": "bdf79f3f",
            "metadata": {},
            "outputs": [],
            "source": []
        },
        {
            "cell_type": "markdown",
            "id": "f94fae93",
            "metadata": {},
            "source": [
                "**Prompt:** just let image_files be all jpeg in the current directory"
            ]
        },
        {
            "cell_type": "code",
            "execution_count": null,
            "id": "518fd6b1",
            "metadata": {},
            "outputs": [],
            "source": []
        },
        {
            "cell_type": "markdown",
            "id": "4b37292d",
            "metadata": {},
            "source": [
                "![Combined Image](combined.jpg)"
            ]
        },
        {
            "cell_type": "markdown",
            "id": "a414add4",
            "metadata": {},
            "source": [
                "Of course, this wasn't what I had in mind. Clearly I want some sort of grid instead, but 13 doesn't divide evenly so I had to think a little.\n",
                "\n",
                "**Prompt:** this works! but its 1 row, 13 columns. I want 4 rows, with 2 3 4 4 columns respectively."
            ]
        },
        {
            "cell_type": "code",
            "execution_count": null,
            "id": "7ff6665f",
            "metadata": {},
            "outputs": [],
            "source": []
        },
        {
            "cell_type": "markdown",
            "id": "50a0cd48",
            "metadata": {},
            "source": [
                "![Combined Image](combined2.jpg)"
            ]
        },
        {
            "cell_type": "markdown",
            "id": "e649c325",
            "metadata": {},
            "source": [
                "Better, but I'd like it centered.\n",
                "\n",
                "**Prompt:** please center the the rows for me"
            ]
        },
        {
            "cell_type": "code",
            "execution_count": null,
            "id": "705f6b92",
            "metadata": {},
            "outputs": [],
            "source": []
        },
        {
            "cell_type": "markdown",
            "id": "5b74ace7",
            "metadata": {},
            "source": [
                "![Combined Image](combined3.jpg)"
            ]
        },
        {
            "cell_type": "markdown",
            "id": "543c9d3f",
            "metadata": {},
            "source": [
                "This is where the fake data example breaks down: my image files were different, ordered according to my daughter's age in months, and I wanted the code to put them in order.\n",
                "\n",
                "**Prompt:** ok that's perfect, except for ONE thing. The jpg files I want to combine are named A.jpeg, where A runs from 0 to 12. Put them in order, please."
            ]
        },
        {
            "cell_type": "code",
            "execution_count": null,
            "id": "70326417",
            "metadata": {},
            "outputs": [],
            "source": []
        },
        {
            "cell_type": "markdown",
            "id": "fd5b7838",
            "metadata": {},
            "source": [
                "**Time to see the real data from the private folder!** much cuter than a Calabi-Yau."
            ]
        },
        {
            "cell_type": "markdown",
            "id": "639c5bec",
            "metadata": {},
            "source": [
                "### Caveats\n",
                "\n",
                "This tech is really impressive. Questons for discussion:\n",
                "- What about this problem and the dialog makes it a good / safe / sensible use of ChatGPT?\n",
                "- What are use cases where you *wouldn't* want to use ChatGPT?\n",
                "\n",
                "### Another Anecdotal Example\n",
                "\n",
                "Roughly, the way I like to think about it is that GPT is good at interpolation between knowledge domains, but not extrapolation into new knowledge domains.\n",
                "\n",
                "If you ask it a question you know is at the frontier of knowledge and ask it to push beyond, it generally won't do well.\n",
                "\n",
                "But I once gave it a prompt to the effect of \"write a python script using the networkx package to compute the number of subgraphs of a graph, up to isomorphism, and print the isomorphism classes\" and after a few small iterations I had a working code. Some reasons it was able to do it:\n",
                "- It knows about Python.\n",
                "- It knows about networkx.\n",
                "- It knows the language of undergrad level graph theory.\n",
                "\n",
                "It knows these things because all were (presumably) in its training corpus, and its command over English allows it to interpolate between the different idea here to produce a good code."
            ]
        },
        {
            "cell_type": "markdown",
            "id": "fa8ec781",
            "metadata": {},
            "source": []
        }
    ],
    "metadata": {
        "kernelspec": {
            "display_name": "Python 3 (ipykernel)",
            "language": "python",
            "name": "python3"
        },
        "language_info": {
            "codemirror_mode": {
                "name": "ipython",
                "version": 3
            },
            "file_extension": ".py",
            "mimetype": "text/x-python",
            "name": "python",
            "nbconvert_exporter": "python",
            "pygments_lexer": "ipython3",
            "version": "3.11.4"
        }
    },
    "nbformat": 4,
    "nbformat_minor": 5
}