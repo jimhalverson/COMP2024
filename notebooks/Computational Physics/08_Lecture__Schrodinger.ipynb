{
    "cells": [
        {
            "cell_type": "markdown",
            "metadata": {},
            "source": [
                "Time dependent Schr\u00f6dinger equation\n",
                "==================================\n",
                "\n",
                "We want to describe an electron wavefunction by a wavepacket\n",
                "$\\psi (x,y)$ that is a function of position $x$ and time $t$. We assume\n",
                "that the electron is initially localized around $x_0$, and model this by\n",
                "a Gaussian multiplying a plane wave:\n",
                "$$\\psi(x,t=0)=\\exp{\\left[-\\frac{1}{2}\\left(\\frac{x-x_0}{\\sigma _0}\n",
                "\\right)^2\\right ]} e^{ik_0x}\n",
                "$$\n",
                "\n",
                "This wave function does not correspond to an electron with a well\n",
                "defined momentum. However, if the width of the Gaussian $\\sigma _0$ is\n",
                "made very large, the electron gets spread over a sufficiently large\n",
                "region of space and can be considered as a plane wave with momentum\n",
                "$k_0$ with a slowly varying amplitude.\n",
                "\n",
                "The behavior of this wave packet as a function of time is described by\n",
                "the time-dependent Schr\u00f6edinger equation (here in 1d):\n",
                "\n",
                "$$i\\frac{\\partial \\psi}{\\partial t}=H\\psi(x,t).$$ \n",
                "\n",
                "$H$ is the Hamiltonian operator:\n",
                "\n",
                "$$H=-\\frac{1}{2m}\\frac{\\partial ^2}{\\partial x^2}+V(x),$$ \n",
                "\n",
                "where $V(x)$ is a time independent potential. The\n",
                "Hamiltonian is chosen to be real. we have picked the energy units such\n",
                "that $\\hbar=1$, and from now on, we will pick mass units such that\n",
                "$2m=1$ to make equations simpler.\n",
                "\n",
                "Schr\u00f6dinger\u2019s equation is obviously a PDE, and we can use\n",
                "generalizations of the techniques learned in previous sections to solve\n",
                "it. The main observation is that this time we have to deal with complex\n",
                "numbers, and the function $\\psi (x,y)$ has real and imaginary parts:\n",
                "\n",
                "$$\\psi (x,t) = R(x,t)+iI(x,t).$$ \n",
                "\n",
                "However, is this section we will\n",
                "present an alternative method that makes the quantum mechanical nature\n",
                "of this problem more transparent.\n",
                "\n",
                "The time-evolution operator\n",
                "---------------------------\n",
                "\n",
                "The Scr\u00f6dinger equation above can be integrated in a formal sense\n",
                "to obtain: \n",
                "$$\\psi(x,t)=U(t)\\psi(x,t=0)$$ \n",
                "where we have the time-evolution operator\n",
                "$U(t)=\\exp{-iHt}$. More generally this gives\n",
                "$$\\psi(t+\\Delta t)= e^{-iH\\Delta t}\\psi(t).$$\n",
                "Likewise, the inverse of the time-evolution operator moves the wave\n",
                "function back in time: $$\\psi(t-\\Delta t)=e^{iH\\Delta t}\\psi(t),$$ where\n",
                "we have use the property $$U^{-1}(t)=U(-t).$$ Although it would be nice\n",
                "to have an algorithm based on the direct application of $U$, it has been\n",
                "shown that this is not stable. Hence, we apply the following relation:\n",
                "\n",
                "$$\\psi(t+\\Delta t)=\\psi(t-\\Delta t)+\\left[e^{-iH\\Delta t}-e^{iH\\Delta\n",
                "t}\\right]\\psi(t).$$ \n",
                "\n",
                "Now, in the case at hand for the above Hamiltonian, the derivatives with respect to $x$ can be\n",
                "approximated by \n",
                "\n",
                "$$\\begin{aligned}\n",
                "\\frac{\\partial \\psi}{\\partial t}\n",
                "&\\sim& \\frac{\\psi(x,t+\\Delta t)-\\psi(x, t)}{\\Delta t}, \\\\\n",
                "\\frac{\\partial ^2 \\psi}{\\partial x^2} &\\sim& \\frac{\\psi(x+\\Delta  %\n",
                "x,t)+\\psi(x-\\Delta x,t)-2\\psi(x,t)}{(\\Delta x)^2}.\n",
                "\\end{aligned}$$ \n",
                "\n",
                "The time evolution operator is\n",
                "approximated by: $$U(\\Delta t)=e^{-iH\\Delta t} \\sim 1+iH\\Delta t.$$\n",
                "Replacing the expression (\\[hami\\]) for $H$, we obtain:\n",
                "\n",
                "$$\\psi(x,t+\\Delta t)=\\psi(x,t)-i[(2\\alpha+\\Delta t\n",
                "V(x))\\psi(x,t)-\\alpha(\\psi(x+\\Delta x,t)+\\psi(x-\\Delta x,t))],\n",
                "$$ \n",
                "\n",
                "with $\\alpha=\\frac{\\Delta t}{(\\Delta x)^2}$. The\n",
                "probability of finding an electron at $(x,t)$ is given by\n",
                "$|\\psi(x,t)|^2$. This equations do no conserve this probability exactly,\n",
                "but the error is of the order of $(\\Delta t)^2$. The convergence can be\n",
                "determined by using smaller steps.\n",
                "\n",
                "We can write this expression explicitly for the real and imaginary parts, becoming:\n",
                "\n",
                "$$\\begin{aligned}\n",
                "\\mathrm{Im} \\psi(x, t + \\Delta t) = \\mathrm{Im} \\psi(x, t) + \\alpha \\mathrm{Re} \\psi (x + \\Delta x, t) + \\alpha \\mathrm{Re}\\psi(x \u2212 \\Delta x, t) \u2212 (2\\alpha + \\Delta t V (x)) \\mathrm{Re} \\psi(x, t) \\\\\n",
                "\\mathrm{Re} \\psi(x, t + \\Delta t) = \\mathrm{Re} \\psi(x, t) \u2212  \\alpha \\mathrm{Im} \\psi (x + \\Delta x, t) \u2212 \\alpha \\mathrm{Im} \\psi (x \u2212 \\Delta x, t) + (2\\alpha + \\Delta tV (x)) \\mathrm{Im} \\psi(x, t)\n",
                "\\end{aligned}$$\n",
                "\n",
                "\n",
                "Notice the symmetry between these equations a: while the calculation of the imaginary part of the wave function at the later time involves a weighted average of the real part of the wave function at di erent positions from the earlier time, the calculation of the real part involves a weighted average of the imaginary part for di erent positions at the earlier time. This intermixing of the real and imaginary parts of the wave function may seem a bit strange, but remember that this situation is a direct result of our breaking up the wave function into its real and imaginary parts in the first place.\n",
                "\n",
                "\n",
                "\n",
                "\n",
                "### Exercise 8.1: Harmonic Potential \n",
                "Simulate a Gaussian wave-packet moving along the $x$ axis in a harmonic potential"
            ]
        },
        {
            "cell_type": "code",
            "execution_count": null,
            "metadata": {},
            "outputs": [],
            "source": []
        },
        {
            "cell_type": "code",
            "execution_count": null,
            "metadata": {},
            "outputs": [],
            "source": []
        },
        {
            "cell_type": "code",
            "execution_count": null,
            "metadata": {},
            "outputs": [],
            "source": []
        },
        {
            "cell_type": "markdown",
            "metadata": {},
            "source": [
                "### Exercise 8.2: Potential barrier ###\n",
                "Simulate a Gaussian wave-packet moving along the x axis passing through a potential barrier"
            ]
        },
        {
            "cell_type": "code",
            "execution_count": null,
            "metadata": {},
            "outputs": [],
            "source": []
        },
        {
            "cell_type": "code",
            "execution_count": null,
            "metadata": {},
            "outputs": [],
            "source": []
        },
        {
            "cell_type": "markdown",
            "metadata": {},
            "source": [
                "### Exercise 8.2: Single-slit diffraction \n",
                "Young\u2019s single-slit experiment consists of a wave passing though a small\n",
                "slit, which causes the emerging wavelets to intefere with eachother\n",
                "forming a diffraction pattern. In quantum mechanics, where particles are\n",
                "represented by probabilities, and probabilities by wave packets, it\n",
                "means that the same phenomenon should occur when a particle (electron,\n",
                "neutron) passes though a small slit. Consider a wave packet of initial\n",
                "width 3 incident on a slit of width 5, and plot the probability density\n",
                "$|\\psi ^2|$ as the packet crosses the slit. Generalize the\n",
                "time-evolution equation (\\[time\\_diff\\]) for 2 dimensions. Model the\n",
                "slit with a potential wall:\n",
                "$$V(x,y)=100 \\,\\,\\,\\,\\,\\ \\mathrm{for}\\,\\,x=10,|y|\\geq 2.5.$$"
            ]
        },
        {
            "cell_type": "code",
            "execution_count": null,
            "metadata": {},
            "outputs": [],
            "source": []
        },
        {
            "cell_type": "markdown",
            "metadata": {},
            "source": []
        },
        {
            "cell_type": "code",
            "execution_count": null,
            "metadata": {},
            "outputs": [],
            "source": []
        },
        {
            "cell_type": "markdown",
            "metadata": {},
            "source": [
                "*Note:* we see the development of peaks, and also the interference pattern. "
            ]
        },
        {
            "cell_type": "code",
            "execution_count": null,
            "metadata": {},
            "outputs": [],
            "source": []
        },
        {
            "cell_type": "code",
            "execution_count": null,
            "metadata": {},
            "outputs": [],
            "source": []
        },
        {
            "cell_type": "code",
            "execution_count": null,
            "metadata": {},
            "outputs": [],
            "source": []
        },
        {
            "cell_type": "code",
            "execution_count": null,
            "metadata": {},
            "outputs": [],
            "source": []
        },
        {
            "cell_type": "code",
            "execution_count": null,
            "metadata": {},
            "outputs": [],
            "source": []
        }
    ],
    "metadata": {
        "kernelspec": {
            "display_name": "Python 3 (ipykernel)",
            "language": "python",
            "name": "python3"
        },
        "language_info": {
            "codemirror_mode": {
                "name": "ipython",
                "version": 3
            },
            "file_extension": ".py",
            "mimetype": "text/x-python",
            "name": "python",
            "nbconvert_exporter": "python",
            "pygments_lexer": "ipython3",
            "version": "3.11.4"
        }
    },
    "nbformat": 4,
    "nbformat_minor": 1
}